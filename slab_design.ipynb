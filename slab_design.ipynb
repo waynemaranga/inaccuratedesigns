{
 "cells": [
  {
   "cell_type": "code",
   "execution_count": 1,
   "metadata": {},
   "outputs": [],
   "source": [
    "from slab import TwoWaySlab\n",
    "import numpy as np\n",
    "from math import sqrt\n",
    "from numpy import cbrt"
   ]
  },
  {
   "cell_type": "markdown",
   "metadata": {},
   "source": [
    "# DEFINITIONS"
   ]
  },
  {
   "cell_type": "code",
   "execution_count": 2,
   "metadata": {},
   "outputs": [
    {
     "name": "stdout",
     "output_type": "stream",
     "text": [
      "ly/lx for Slab A: 1.143, so TwoWay\n",
      "ly/lx for Slab B: 1.429, so TwoWay\n"
     ]
    }
   ],
   "source": [
    "# --- Slab A\n",
    "ly_a = 4.0 # m\n",
    "lx_a = 3.5 # m\n",
    "ly_lx_a = ly_a / lx_a\n",
    "print(f\"ly/lx for Slab A: {round(ly_lx_a,3)}, so TwoWay\")\n",
    "\n",
    "# --- Slab B\n",
    "ly_b = 5.0 # m\n",
    "lx_b = 3.5 # m\n",
    "ly_lx_b = ly_b / lx_b\n",
    "print(f\"ly/lx for Slab B: {round(ly_lx_b,3)}, so TwoWay\")\n",
    "\n"
   ]
  },
  {
   "cell_type": "code",
   "execution_count": 3,
   "metadata": {},
   "outputs": [],
   "source": [
    "slab_A = TwoWaySlab(ly_a, lx_a)\n",
    "slab_B = TwoWaySlab(ly_b, lx_b)\n",
    "\n",
    "# # --- Slab A\n",
    "# print(slab_A) # prints type and position in memory\n",
    "# print(f\"{ly_a/lx_a}\")\n",
    "\n",
    "# # --- Slab B\n",
    "# print(slab_B)\n",
    "# print(f\"{ly_b/lx_b}\")"
   ]
  },
  {
   "cell_type": "markdown",
   "metadata": {},
   "source": [
    "# ACTIONS"
   ]
  },
  {
   "cell_type": "markdown",
   "metadata": {},
   "source": [
    "## Water Tanks (Applied/Imposed)"
   ]
  },
  {
   "cell_type": "code",
   "execution_count": 4,
   "metadata": {},
   "outputs": [
    {
     "name": "stdout",
     "output_type": "stream",
     "text": [
      "Area loads:\n",
      "Slab A: 3.504 kN/m2\n",
      "Slab B: 2.803 kN/m2\n"
     ]
    }
   ],
   "source": [
    "# 5000L water tank on each slab, rho = 1 000kg/m3 and 1 000L = 1 m3, so 1 000L = 1 000kg\n",
    "g = 9.81\n",
    "# g = 10\n",
    "water_weight = 5_000 * g # Newtons\n",
    "water_action = water_weight / 1_000 # kiloNewtons\n",
    "\n",
    "area_load_a = water_action / slab_A.area() # kN/m2\n",
    "area_load_b = water_action / slab_B.area() # kN/m2\n",
    "\n",
    "print(f\"Area loads:\\nSlab A: {round(area_load_a, 3)} kN/m2\\nSlab B: {round(area_load_b, 3)} kN/m2\")"
   ]
  },
  {
   "cell_type": "markdown",
   "metadata": {},
   "source": [
    "## Self-weight, finishes, variable, etc..."
   ]
  },
  {
   "cell_type": "code",
   "execution_count": 5,
   "metadata": {},
   "outputs": [],
   "source": [
    "# --- Self-weight\n",
    "# Density of concrete is 25kN/m3\n",
    "self_weight = 25.0 * 0.175 \n",
    "\n",
    "# --- Finishes, 24kN/m3\n",
    "finishes = 24 * 0.05\n",
    "\n",
    "# --- Slab A\n",
    "gk_a = self_weight + finishes + area_load_a\n",
    "qk_a = 0.4\n",
    "# qk_a = 0.5\n",
    "\n",
    "# --- Slab B\n",
    "gk_b = self_weight + finishes + area_load_b\n",
    "qk_b = 0.4\n",
    "# qk_b = 0.5"
   ]
  },
  {
   "cell_type": "code",
   "execution_count": 6,
   "metadata": {},
   "outputs": [
    {
     "name": "stdout",
     "output_type": "stream",
     "text": [
      "total eta on slabs:\n",
      "Slab A: 12.856 kN/m2\n",
      "Slab B: 11.91 kN/m2\n"
     ]
    }
   ],
   "source": [
    "# --- eta values i.e total loads\n",
    "\n",
    "eta_a = (1.35 * gk_a) + (1.5 * qk_a)\n",
    "eta_b = (1.35 * gk_b) + (1.5 * qk_b)\n",
    "\n",
    "print(f\"total eta on slabs:\\nSlab A: {round(eta_a, 3)} kN/m2\\nSlab B: {round(eta_b, 3)} kN/m2\")"
   ]
  },
  {
   "cell_type": "markdown",
   "metadata": {},
   "source": [
    "# INTERNAL FORCES (M & V)"
   ]
  },
  {
   "cell_type": "markdown",
   "metadata": {},
   "source": [
    "## Beta values/coefficients"
   ]
  },
  {
   "cell_type": "code",
   "execution_count": 7,
   "metadata": {},
   "outputs": [
    {
     "name": "stdout",
     "output_type": "stream",
     "text": [
      "For slab A,\n",
      "Bsx: [0.059, 0.0441]\n",
      "Bsy: [0.045, 0.034]\n",
      "\n",
      "For slab B,\n",
      "Bsx: [0.0751, 0.0561]\n",
      "Bsy: [0.045, 0.034]\n"
     ]
    }
   ],
   "source": [
    "# --- beta coefficients for bending moments\n",
    "# --- slab A\n",
    "print(f\"For slab A,\\nBsx: {slab_A.beta_sx('d')}\\nBsy: {slab_A.beta_sy('d')}\\n\")\n",
    "\n",
    "# --- slab B\n",
    "print(f\"For slab B,\\nBsx: {slab_B.beta_sx('d')}\\nBsy: {slab_B.beta_sy('d')}\")\n"
   ]
  },
  {
   "cell_type": "code",
   "execution_count": 8,
   "metadata": {},
   "outputs": [],
   "source": [
    "# --- beta coeffs for shear forces\n",
    "# TODO: modularise later\n",
    "\n",
    "# print(f\"For slab A,\\nBvx: {slab_A.beta_vx('d')}\\nBvy: {slab_A.beta_vy('d')}\\n\")\n",
    "# print(f\"For slab B,\\nBvx: {slab_B.beta_vx('d')}\\nBvy: {slab_B.beta_vy('d')}\")\n"
   ]
  },
  {
   "cell_type": "markdown",
   "metadata": {},
   "source": [
    "## Bending Moments"
   ]
  },
  {
   "cell_type": "code",
   "execution_count": 9,
   "metadata": {},
   "outputs": [
    {
     "name": "stdout",
     "output_type": "stream",
     "text": [
      "Moments for slabs:\n",
      "Slab A: [[-9.291725625, 6.951920624999999], [-7.086909375, 5.354553750000001]]\n",
      "Slab B: [[-10.963253625, 8.1911761875], [-6.565446562499998, 4.960559625]]\n"
     ]
    }
   ],
   "source": [
    "# --- slab A\n",
    "slab_A.actions(eta_a)\n",
    "slab_B.actions(eta_b)\n",
    "\n",
    "print(f\"Moments for slabs:\\nSlab A: {slab_A.moments()}\\nSlab B: {slab_B.moments()}\")\n"
   ]
  },
  {
   "cell_type": "code",
   "execution_count": 10,
   "metadata": {},
   "outputs": [
    {
     "name": "stdout",
     "output_type": "stream",
     "text": [
      "\n",
      "Expounded:\n",
      "Slab A:\n",
      "Short span: -M (supports) = -9.292 kNm/m, +M (midspan) = 6.952 kNm/m\n",
      "Long span: -M (supports) = -7.087 kNm/m, +M (midspan) = 5.355 kNm/m\n",
      "\n",
      "Slab B:\n",
      "Short span: -M (supports) = -10.963 kNm/m, +M (midspan) = 8.191 kNm/m\n",
      "Long span: -M (supports) = -6.565 kNm/m, +M (midspan) = 4.961 kNm/m\n",
      "\n"
     ]
    }
   ],
   "source": [
    "# --- Expounded\n",
    "# --- Slab A\n",
    "m_sx_a_supports = round(slab_A.moments()[0][0], 3)\n",
    "m_sx_a_midspan = round(slab_A.moments()[0][1], 3)\n",
    "m_sy_a_supports = round(slab_A.moments()[1][0], 3)\n",
    "m_sy_a_midspan = round(slab_A.moments()[1][1], 3)\n",
    "\n",
    "# --- Slab B\n",
    "m_sx_b_supports = round(slab_B.moments()[0][0], 3)\n",
    "m_sx_b_midspan = round(slab_B.moments()[0][1], 3)\n",
    "m_sy_b_supports = round(slab_B.moments()[1][0], 3)\n",
    "m_sy_b_midspan = round(slab_B.moments()[1][1], 3)\n",
    "\n",
    "\n",
    "print(f\"\"\"\n",
    "Expounded:\n",
    "Slab A:\n",
    "Short span: -M (supports) = {m_sx_a_supports} kNm/m, +M (midspan) = {m_sx_a_midspan} kNm/m\n",
    "Long span: -M (supports) = {m_sy_a_supports} kNm/m, +M (midspan) = {m_sy_a_midspan} kNm/m\n",
    "\n",
    "Slab B:\n",
    "Short span: -M (supports) = {m_sx_b_supports} kNm/m, +M (midspan) = {m_sx_b_midspan} kNm/m\n",
    "Long span: -M (supports) = {m_sy_b_supports} kNm/m, +M (midspan) = {m_sy_b_midspan} kNm/m\n",
    "\"\"\")"
   ]
  },
  {
   "cell_type": "markdown",
   "metadata": {},
   "source": [
    "## Shear Forces"
   ]
  },
  {
   "cell_type": "code",
   "execution_count": 11,
   "metadata": {},
   "outputs": [],
   "source": [
    "# TODO: interpolation for beta coeffs and calcs\n",
    "#   - clarify continuous and discontinuous shear values and use\n",
    "#   - check final fx (checks or no?)\n",
    "\n",
    "# print(f\"Shears for slabs:\\nSlab A: {slab_A.shears()}\\nSlab B: {slab_B.shears()}\")"
   ]
  },
  {
   "cell_type": "code",
   "execution_count": 12,
   "metadata": {},
   "outputs": [
    {
     "name": "stdout",
     "output_type": "stream",
     "text": [
      "For slab A,\n",
      "Bvx: [0.4529, 0.3557]\n",
      "Bvy: [0.4, 0.26]\n",
      "\n",
      "For slab B,\n",
      "Bvx: [0.5257, 0.3429]\n",
      "Bvy: [0.4, 0.26]\n"
     ]
    }
   ],
   "source": [
    "# beta coeffs for shear forces\n",
    "print(f\"For slab A,\\nBvx: {slab_A.beta_vx('d')}\\nBvy: {slab_A.beta_vy('d')}\\n\")\n",
    "print(f\"For slab B,\\nBvx: {slab_B.beta_vx('d')}\\nBvy: {slab_B.beta_vy('d')}\")"
   ]
  },
  {
   "cell_type": "code",
   "execution_count": 13,
   "metadata": {},
   "outputs": [
    {
     "name": "stdout",
     "output_type": "stream",
     "text": [
      "Shears for slabs:\n",
      "Slab A: [[-20.376873214285713, 16.005808928571433], [-17.9985, 11.699025]]\n",
      "Slab B: [[-21.914597142857144, 14.29212857142857], [-16.67415, 10.8381975]]\n"
     ]
    }
   ],
   "source": [
    "print(f\"Shears for slabs:\\nSlab A: {slab_A.shears()}\\nSlab B: {slab_B.shears()}\")"
   ]
  },
  {
   "cell_type": "code",
   "execution_count": 14,
   "metadata": {},
   "outputs": [
    {
     "name": "stdout",
     "output_type": "stream",
     "text": [
      "\n",
      "Expounded:\n",
      "Slab A:\n",
      "Short span: V (continuous) = -20.377 kN, V (discontinuous) = 16.006 kN\n",
      "Long span: V (continuous) = -17.998 kN, V (discontinuous) = 11.699 kN\n",
      "\n",
      "Slab B:\n",
      "Short span: V (continuous) = -21.915 kN, V (discontinuous) = 14.292 kN\n",
      "Long span: V (continuous) = -16.674 kN, V (discontinuous) = 10.838 kN\n",
      "\n"
     ]
    }
   ],
   "source": [
    "# --- Expounded\n",
    "# --- Slab A\n",
    "v_sx_a_continuous = round(slab_A.shears()[0][0], 3)\n",
    "v_sx_a_discontinuous = round(slab_A.shears()[0][1], 3)\n",
    "v_sy_a_continuous = round(slab_A.shears()[1][0], 3)\n",
    "v_sy_a_discontinuous = round(slab_A.shears()[1][1], 3)\n",
    "\n",
    "# --- Slab B\n",
    "v_sx_b_continuous = round(slab_B.shears()[0][0], 3)\n",
    "v_sx_b_discontinuous = round(slab_B.shears()[0][1], 3)\n",
    "v_sy_b_continuous = round(slab_B.shears()[1][0], 3)\n",
    "v_sy_b_discontinuous = round(slab_B.shears()[1][1], 3)\n",
    "\n",
    "\n",
    "print(f\"\"\"\n",
    "Expounded:\n",
    "Slab A:\n",
    "Short span: V (continuous) = {v_sx_a_continuous} kN, V (discontinuous) = {v_sx_a_discontinuous} kN\n",
    "Long span: V (continuous) = {v_sy_a_continuous} kN, V (discontinuous) = {v_sy_a_discontinuous} kN\n",
    "\n",
    "Slab B:\n",
    "Short span: V (continuous) = {v_sx_b_continuous} kN, V (discontinuous) = {v_sx_b_discontinuous} kN\n",
    "Long span: V (continuous) = {v_sy_b_continuous} kN, V (discontinuous) = {v_sy_b_discontinuous} kN\n",
    "\"\"\")"
   ]
  },
  {
   "cell_type": "markdown",
   "metadata": {},
   "source": [
    "# RESISTANCES"
   ]
  },
  {
   "cell_type": "markdown",
   "metadata": {},
   "source": [
    "## Initial Values, User Specs"
   ]
  },
  {
   "cell_type": "code",
   "execution_count": 15,
   "metadata": {},
   "outputs": [],
   "source": [
    "# --- initial values\n",
    "f_ck = 30.0     # N/mm2\n",
    "f_yk = 500.0    # N/mm2\n",
    "h = 200.0       # mm, breadth, initial guess\n",
    "c_nom = 30.0    # mm, nominal cover\n",
    "dia_main = 12.0   # mm, main bars\n",
    "dia_dist = 10.0   # mm, distribution bars, assuM_Ed to be extra 10mm in book\n",
    "\n",
    "# KEY: extra 10mm in calcs\n"
   ]
  },
  {
   "cell_type": "markdown",
   "metadata": {},
   "source": [
    "## Function defs for key attributes"
   ]
  },
  {
   "cell_type": "code",
   "execution_count": 16,
   "metadata": {},
   "outputs": [],
   "source": [
    "# --- d, effective depth\n",
    "def d_eff(position):\n",
    "    \"\"\"Returns effective depth in mm\"\"\"\n",
    "    if position == \"inner\".lower():\n",
    "        return h - c_nom - (dia_main / 2)  - dia_dist\n",
    "    elif position == \"outer\".lower():\n",
    "        return h - c_nom - (dia_main / 2)\n",
    "    else:\n",
    "        return ValueError"
   ]
  },
  {
   "cell_type": "code",
   "execution_count": 17,
   "metadata": {},
   "outputs": [],
   "source": [
    "# --- MRd\n",
    "#   - FIXME: using max moment value only?\n",
    "\n",
    "def M_Rd(d):\n",
    "    \"\"\"Takes `d` in mm, returns moment of resistance in kNmm\"\"\"\n",
    "    return 0.167 * 1000.0 * (d**2) * f_ck"
   ]
  },
  {
   "cell_type": "code",
   "execution_count": 18,
   "metadata": {},
   "outputs": [],
   "source": [
    "# --- k\n",
    "def k_value(M_Ed, d):\n",
    "    \"\"\"Takes `M_Ed` in kNm `d` in mm\"\"\"\n",
    "    # k = M_Ed * 10^6 / bd**2f_ck\n",
    "    # f_ck not added as arg; identical for panels; so is b\n",
    "    k = (M_Ed * 1_000_000.0) / (1000.0 *(d**2) * f_ck)\n",
    "\n",
    "    if k < 0.167:\n",
    "        # print(f\"k = {round(k,4)}\")\n",
    "        return k\n",
    "    elif k >= 0.167:\n",
    "        # print(f\"Since k({round(k,4)}) > 0.167, k is taken as 0.167\")\n",
    "        return 0.167\n",
    "    else:\n",
    "        return ValueError\n",
    "        # KEY: TODO: hande -ve k values due to -ve moment values"
   ]
  },
  {
   "cell_type": "code",
   "execution_count": 19,
   "metadata": {},
   "outputs": [],
   "source": [
    "# --- z, lever arm\n",
    "#   - KEY: get z value and print ratio?\n",
    "def z_value(k_value, d):\n",
    "    z = (0.5 + sqrt(0.25 - 0.882 * k_value)) * d\n",
    "\n",
    "    if z / d >= 0.95:\n",
    "        # print(f\"Since z({round(z,2)}) > 0.95d ( {round((0.95 * d),2)}, z is taken as {round((0.95 * d),2)}\") # FIXME: VERBOSE\n",
    "        return 0.95 * d\n",
    "    elif z / d < 0.95:\n",
    "        # print(f\"z = {round(z,2)}\")\n",
    "        return z\n",
    "    else:\n",
    "        return ValueError"
   ]
  },
  {
   "cell_type": "code",
   "execution_count": 20,
   "metadata": {},
   "outputs": [],
   "source": [
    "# --- As_req, area of steel required\n",
    "#   - TODO: enter fns for min and max values from code\n",
    "\n",
    "def As_req(M_Ed, z):\n",
    "    \"\"\"Takes `M_Ed` as kNm and `z` as mm, returns `As_req` in mm2\"\"\"\n",
    "    # Terrible name, but, getting all these values can be one big function or class of properties/attrs\n",
    "    return (M_Ed * 1_000_000.0) / (0.87 * f_yk * z)\n"
   ]
  },
  {
   "cell_type": "markdown",
   "metadata": {},
   "source": [
    "## Key attr, per moment value/slab position"
   ]
  },
  {
   "cell_type": "code",
   "execution_count": 21,
   "metadata": {},
   "outputs": [
    {
     "name": "stdout",
     "output_type": "stream",
     "text": [
      "Eff. depth (inner): 154.0 mm\n",
      "Eff. depth (outer): 164.0 mm\n"
     ]
    }
   ],
   "source": [
    "# --- effective depth, inner or outer, is uniform for slab\n",
    "#   - URGENT: program for minimum depth-to-span ratio\n",
    "d_inner = d_eff(\"inner\")\n",
    "d_outer = d_eff(\"outer\")\n",
    "\n",
    "print(f\"Eff. depth (inner): {d_inner} mm\")\n",
    "print(f\"Eff. depth (outer): {d_outer} mm\")\n",
    "\n",
    "# --- printout for Nmm to kNm\n",
    "def to_kNm(Nmm):\n",
    "    # rounding is fine since for printing to STDOUT, no accuracy fx\n",
    "    # arg method is simplest, no custom method or monkey-path required\n",
    "    kNm = Nmm / 1_000_000.0\n",
    "    return round(kNm, 2)"
   ]
  },
  {
   "cell_type": "markdown",
   "metadata": {},
   "source": [
    "### Slab A\n",
    "<!-- - Could use a span-position class  -->\n",
    "<!-- - TODO: try make spans-position class, for ease of use -->\n",
    "<!-- - TODO:    --OR, extend slab class to handle this -->"
   ]
  },
  {
   "cell_type": "code",
   "execution_count": 22,
   "metadata": {},
   "outputs": [
    {
     "name": "stdout",
     "output_type": "stream",
     "text": [
      "Slab A\n",
      "----------\n",
      "Short-span, over-supports: \n",
      "M_Ed = -9.292 kNm\n",
      "M_Rd = 134.75 kNm, k = -0.0115, z = 155.8mm, As = -137.1mm2\n",
      "\n",
      "Short-span, mid-span: \n",
      "M_Ed = 6.952 kNm\n",
      "M_Rd = 118.82 kNm, k = 0.0098, z = 146.3mm, As = 109.24mm2\n",
      "\n",
      "Long-span, over-supports: \n",
      "M_Ed = -7.087 kNm\n",
      "M_Rd = 134.75 kNm, k = -0.0088, z = 155.8mm, As = -104.57mm2\n",
      "\n",
      "Long-span, mid-span: \n",
      "M_Ed = 5.355 kNm\n",
      "M_Rd = 118.82 kNm, k = 0.0075, z = 146.3mm, As = 84.14mm2\n",
      "\n"
     ]
    }
   ],
   "source": [
    "print(f\"Slab A\\n----------\")\n",
    "# --- short-span, over-supports -> SO\n",
    "so_a_M_Rd = M_Rd(d_outer) # Nmm\n",
    "so_a_k = k_value(m_sx_a_supports, d_outer)\n",
    "so_a_z = z_value(so_a_k, d_outer)\n",
    "so_a_As = As_req(m_sx_a_supports, so_a_z)\n",
    "\n",
    "print(f\"Short-span, over-supports: \\nM_Ed = {m_sx_a_supports} kNm\\nM_Rd = {to_kNm(so_a_M_Rd)} kNm, k = {round(so_a_k, 4)}, z = {round(so_a_z, 2)}mm, As = {round(so_a_As, 2)}mm2\\n\")\n",
    "\n",
    "# --- short-span, mid-span -> SM\n",
    "sm_a_M_Rd = M_Rd(d_inner) # Nmm\n",
    "sm_a_k = k_value(m_sx_a_midspan, d_inner)\n",
    "sm_a_z = z_value(sm_a_k, d_inner)\n",
    "sm_a_As = As_req(m_sx_a_midspan, sm_a_z)\n",
    "\n",
    "print(f\"Short-span, mid-span: \\nM_Ed = {m_sx_a_midspan} kNm\\nM_Rd = {to_kNm(sm_a_M_Rd)} kNm, k = {round(sm_a_k, 4)}, z = {round(sm_a_z, 2)}mm, As = {round(sm_a_As, 2)}mm2\\n\")\n",
    "\n",
    "# --- long-span, over-supports -> LO\n",
    "lo_a_M_Rd = M_Rd(d_outer) # Nmm\n",
    "lo_a_k = k_value(m_sy_a_supports, d_outer)\n",
    "lo_a_z = z_value(lo_a_k, d_outer)\n",
    "lo_a_As = As_req(m_sy_a_supports, lo_a_z)\n",
    "\n",
    "print(f\"Long-span, over-supports: \\nM_Ed = {m_sy_a_supports} kNm\\nM_Rd = {to_kNm(lo_a_M_Rd)} kNm, k = {round(lo_a_k, 4)}, z = {round(lo_a_z, 2)}mm, As = {round(lo_a_As, 2)}mm2\\n\")\n",
    "\n",
    "# --- long-span, mid-span -> LM\n",
    "lm_a_M_Rd = M_Rd(d_inner) # Nmm\n",
    "lm_a_k = k_value(m_sy_a_midspan, d_inner)\n",
    "lm_a_z = z_value(lm_a_k, d_inner)\n",
    "lm_a_As = As_req(m_sy_a_midspan, lm_a_z)\n",
    "\n",
    "print(f\"Long-span, mid-span: \\nM_Ed = {m_sy_a_midspan} kNm\\nM_Rd = {to_kNm(lm_a_M_Rd)} kNm, k = {round(lm_a_k, 4)}, z = {round(lm_a_z, 2)}mm, As = {round(lm_a_As, 2)}mm2\\n\")\n",
    "\n"
   ]
  },
  {
   "cell_type": "markdown",
   "metadata": {},
   "source": [
    "### Slab B"
   ]
  },
  {
   "cell_type": "code",
   "execution_count": 23,
   "metadata": {},
   "outputs": [
    {
     "name": "stdout",
     "output_type": "stream",
     "text": [
      "Slab B\n",
      "----------\n",
      "Short-span, over-supports : \n",
      "M_Ed = -10.963 kNm\n",
      "M_Rd = 134.75 kNm, k = -0.0136, z = 155.8mm, As = -161.76mm2\n",
      "\n",
      "Short-span, mid-span : \n",
      "M_Ed = 8.191 kNm\n",
      "M_Rd = 118.82 kNm, k = 0.0115, z = 146.3mm, As = 128.71mm2\n",
      "\n",
      "Long-span, over-supports : \n",
      "M_Ed = -6.565 kNm\n",
      "M_Rd = 134.75 kNm, k = -0.0081, z = 155.8mm, As = -96.87mm2\n",
      "\n",
      "Long-span, mid-span : \n",
      "M_Ed = 4.961 kNm\n",
      "M_Rd = 118.82 kNm, k = 0.007, z = 146.3mm, As = 77.95mm2\n",
      "\n"
     ]
    }
   ],
   "source": [
    "print(f\"Slab B\\n----------\")\n",
    "\n",
    "# --- short-span, over-supports -> SO for Span B\n",
    "so_b_M_Rd = M_Rd(d_outer)  # Nmm\n",
    "so_b_k = k_value(m_sx_b_supports, d_outer)\n",
    "so_b_z = z_value(so_b_k, d_outer)\n",
    "so_b_As = As_req(m_sx_b_supports, so_b_z)\n",
    "\n",
    "print(f\"Short-span, over-supports : \\nM_Ed = {m_sx_b_supports} kNm\\nM_Rd = {to_kNm(so_b_M_Rd)} kNm, k = {round(so_b_k, 4)}, z = {round(so_b_z, 2)}mm, As = {round(so_b_As, 2)}mm2\\n\")\n",
    "\n",
    "# --- short-span, mid-span -> SM for Span B\n",
    "sm_b_M_Rd = M_Rd(d_inner)  # Nmm\n",
    "sm_b_k = k_value(m_sx_b_midspan, d_inner)\n",
    "sm_b_z = z_value(sm_b_k, d_inner)\n",
    "sm_b_As = As_req(m_sx_b_midspan, sm_b_z)\n",
    "\n",
    "print(f\"Short-span, mid-span : \\nM_Ed = {m_sx_b_midspan} kNm\\nM_Rd = {to_kNm(sm_b_M_Rd)} kNm, k = {round(sm_b_k, 4)}, z = {round(sm_b_z, 2)}mm, As = {round(sm_b_As, 2)}mm2\\n\")\n",
    "\n",
    "# --- long-span, over-supports -> LO for Span B\n",
    "lo_b_M_Rd = M_Rd(d_outer)  # Nmm\n",
    "lo_b_k = k_value(m_sy_b_supports, d_outer)\n",
    "lo_b_z = z_value(lo_b_k, d_outer)\n",
    "lo_b_As = As_req(m_sy_b_supports, lo_b_z)\n",
    "\n",
    "print(f\"Long-span, over-supports : \\nM_Ed = {m_sy_b_supports} kNm\\nM_Rd = {to_kNm(lo_b_M_Rd)} kNm, k = {round(lo_b_k, 4)}, z = {round(lo_b_z, 2)}mm, As = {round(lo_b_As, 2)}mm2\\n\")\n",
    "\n",
    "# --- long-span, mid-span -> LM for Span B\n",
    "lm_b_M_Rd = M_Rd(d_inner)  # Nmm\n",
    "lm_b_k = k_value(m_sy_b_midspan, d_inner)\n",
    "lm_b_z = z_value(lm_b_k, d_inner)\n",
    "lm_b_As = As_req(m_sy_b_midspan, lm_b_z)\n",
    "\n",
    "print(f\"Long-span, mid-span : \\nM_Ed = {m_sy_b_midspan} kNm\\nM_Rd = {to_kNm(lm_b_M_Rd)} kNm, k = {round(lm_b_k, 4)}, z = {round(lm_b_z, 2)}mm, As = {round(lm_b_As, 2)}mm2\\n\")\n"
   ]
  },
  {
   "cell_type": "code",
   "execution_count": 24,
   "metadata": {},
   "outputs": [],
   "source": [
    "# --- As_prov, area of steel provided\n",
    "def As_prov(d, As_req):\n",
    "    As_min = 0.0013 * 1000.0 * d # according to EC2\n",
    "    if As_req < As_min:\n",
    "        return As_min\n",
    "    else:\n",
    "        return As_req"
   ]
  },
  {
   "cell_type": "code",
   "execution_count": 25,
   "metadata": {},
   "outputs": [
    {
     "name": "stdout",
     "output_type": "stream",
     "text": [
      "Slab A, areas provided: \n",
      "----------\n",
      "Short-span, over-supports: 213.2mm2\n",
      "Short-span, mid-span: 200.2mm2\n",
      "Long-span, over-supports: 213.2mm2\n",
      "Long-span, mid-span: 200.2mm2\n",
      "\n",
      "for short-span, mid-span, slab A:\n",
      "As_req = 109.24mm2\n",
      "As_prov = 200.2mm2\n",
      "\n",
      "... since As_req < As_min, As_prov = As_min = 200.2mm2\n",
      "\n"
     ]
    }
   ],
   "source": [
    "# Test with current values\n",
    "# slab A\n",
    "so_a_As_prov = As_prov(d_outer, so_a_As) # short-span, over-supports\n",
    "sm_a_As_prov = As_prov(d_inner, sm_a_As) # short-span, mid-span\n",
    "lo_a_As_prov = As_prov(d_outer, lo_a_As) # long-span, over-supports\n",
    "lm_a_As_prov = As_prov(d_inner, lm_a_As) # long-span, mid-span\n",
    "\n",
    "print(f\"Slab A, areas provided: \\n----------\")\n",
    "print(f\"Short-span, over-supports: {round(so_a_As_prov, 2)}mm2\")\n",
    "print(f\"Short-span, mid-span: {round(sm_a_As_prov, 2)}mm2\")\n",
    "print(f\"Long-span, over-supports: {round(lo_a_As_prov, 2)}mm2\")\n",
    "print(f\"Long-span, mid-span: {round(lm_a_As_prov, 2)}mm2\\n\")\n",
    "\n",
    "# Example comparison\n",
    "#   - using short-span, mid-span for slab A, comparing As_req and As_prov\n",
    "print(f\"for short-span, mid-span, slab A:\\nAs_req = {round(sm_a_As, 2)}mm2\\nAs_prov = {round(sm_a_As_prov, 2)}mm2\\n\")\n",
    "print(f\"... since As_req < As_min, As_prov = As_min = {round(0.0013 * 1000.0 * d_inner, 2)}mm2\\n\")\n",
    "\n",
    "\n"
   ]
  },
  {
   "cell_type": "code",
   "execution_count": 26,
   "metadata": {},
   "outputs": [
    {
     "name": "stdout",
     "output_type": "stream",
     "text": [
      "Slab B, areas provided: \n",
      "----------\n",
      "Short-span, over-supports: 213.2mm2\n",
      "Short-span, mid-span: 200.2mm2\n",
      "Long-span, over-supports: 213.2mm2\n",
      "Long-span, mid-span: 200.2mm2\n",
      "\n",
      "for short-span, mid-span, slab B:\n",
      "As_req = 128.71mm2\n",
      "As_prov = 200.2mm2\n",
      "\n",
      "... since As_req < As_min, As_prov = As_min = 200.2mm2\n",
      "\n"
     ]
    }
   ],
   "source": [
    "# slab B\n",
    "so_b_As_prov = As_prov(d_outer, so_b_As) # short-span, over-supports\n",
    "sm_b_As_prov = As_prov(d_inner, sm_b_As) # short-span, mid-span\n",
    "lo_b_As_prov = As_prov(d_outer, lo_b_As) # long-span, over-supports\n",
    "lm_b_As_prov = As_prov(d_inner, lm_b_As) # long-span, mid-span\n",
    "\n",
    "print(f\"Slab B, areas provided: \\n----------\")\n",
    "print(f\"Short-span, over-supports: {round(so_b_As_prov, 2)}mm2\")\n",
    "print(f\"Short-span, mid-span: {round(sm_b_As_prov, 2)}mm2\")\n",
    "print(f\"Long-span, over-supports: {round(lo_b_As_prov, 2)}mm2\")\n",
    "print(f\"Long-span, mid-span: {round(lm_b_As_prov, 2)}mm2\\n\")\n",
    "\n",
    "# Example comparison\n",
    "#   - using short-span, mid-span for slab B, comparing As_req and As_prov\n",
    "print(f\"for short-span, mid-span, slab B:\\nAs_req = {round(sm_b_As, 2)}mm2\\nAs_prov = {round(sm_b_As_prov, 2)}mm2\\n\")\n",
    "print(f\"... since As_req < As_min, As_prov = As_min = {round(0.0013 * 1000.0 * d_inner, 2)}mm2\\n\")"
   ]
  },
  {
   "cell_type": "markdown",
   "metadata": {},
   "source": [
    "### Reinforcement, from tables"
   ]
  },
  {
   "cell_type": "code",
   "execution_count": 27,
   "metadata": {},
   "outputs": [],
   "source": [
    "# --- Main bars\n",
    "# --- Secondary bars"
   ]
  },
  {
   "cell_type": "markdown",
   "metadata": {},
   "source": []
  },
  {
   "cell_type": "markdown",
   "metadata": {},
   "source": [
    "### Shear Values"
   ]
  },
  {
   "cell_type": "markdown",
   "metadata": {},
   "source": [
    "#### Function defs"
   ]
  },
  {
   "cell_type": "code",
   "execution_count": 28,
   "metadata": {},
   "outputs": [],
   "source": [
    "# --- V_Rdc, shear resistance\n",
    "def V_Rdc(d, Asl):\n",
    "    C_Rdc = 0.18 / 1.5\n",
    "    # k = 2.0 if 1 + sqrt(200.0 / d) > 2.0 else 1 + sqrt(200.0 / d)\n",
    "    # rho_1 = 2.0 if 100.0 * Asl / (1000.0 * d) > 2.0 else 100.0 * Asl / (1000.0 * d)\n",
    "    #   - clarify 15 value from text [McGinley, Choo, pg 234/258]\n",
    "\n",
    "\n",
    "    k = 1.0 + sqrt(200.0 / d)\n",
    "    k_lim = 2.0\n",
    "\n",
    "    if k > k_lim:\n",
    "        k = k_lim\n",
    "    else:\n",
    "        k = k\n",
    "    \n",
    "    rho_1 = 100.0 * Asl / (1000.0 * d)\n",
    "    rho_1_lim = 2.0\n",
    "\n",
    "    if rho_1 > rho_1_lim:\n",
    "        rho_1 = rho_1_lim\n",
    "\n",
    "    v_min = 0.035 * (k**(3/2)) * sqrt(f_ck)\n",
    "    V_Rdc = C_Rdc * k * (cbrt(rho_1 * f_ck)) * 1000.0 * d / 1000.0\n",
    "    V_Rdc_min = v_min * 1000.0 * d / 1000.0\n",
    "\n",
    "    # Test print\n",
    "    print(f\"V_Rdc = {round(V_Rdc, 2)} kN, V_Rdc_min = {round(V_Rdc_min, 2)}\")\n",
    "    return V_Rdc if V_Rdc > V_Rdc_min else V_Rdc_min"
   ]
  },
  {
   "cell_type": "code",
   "execution_count": 29,
   "metadata": {},
   "outputs": [
    {
     "name": "stdout",
     "output_type": "stream",
     "text": [
      "V_Rdc = 67.89 kN, V_Rdc_min = 84.04\n",
      "84.04373861270095\n",
      "V_Rdc = 60.26 kN, V_Rdc_min = 78.62\n",
      "78.62156192801056\n"
     ]
    }
   ],
   "source": [
    "# -- Test values\n",
    "print(V_Rdc(155.0, 314.0))\n",
    "print(V_Rdc(145.0, 251.0))"
   ]
  },
  {
   "cell_type": "code",
   "execution_count": 30,
   "metadata": {},
   "outputs": [],
   "source": [
    "# --- k, for shear\n",
    "def k_shear(d):\n",
    "    k = 1.0 + sqrt(200.0 / d)\n",
    "    if k > 2.0:\n",
    "        return 2.0\n",
    "    elif k <= 2.0:\n",
    "        return k\n",
    "    else:\n",
    "        return ValueError\n",
    "\n",
    "# --- rho_1, reinforcement ratio for shear\n",
    "def rho_1_shear(Asl, d):\n",
    "    rho_1 = 100.0 * Asl / (1000.0 * d)\n",
    "    if rho_1 > 2.0:\n",
    "        return 2.0\n",
    "    elif rho_1 <= 2.0:\n",
    "        return rho_1\n",
    "    else:\n",
    "        return ValueError\n",
    "    \n",
    "# --- v_min\n",
    "# def v_min(d):\n",
    "#     v_min = \n",
    "\n",
    "# KEY: V_Rdc function is/may be sufficient, requires only d and Asl and computes everything else"
   ]
  },
  {
   "cell_type": "markdown",
   "metadata": {},
   "source": [
    "#### Slab A"
   ]
  },
  {
   "cell_type": "code",
   "execution_count": 31,
   "metadata": {},
   "outputs": [
    {
     "name": "stdout",
     "output_type": "stream",
     "text": [
      "V_Rdc = -51.28 kN, V_Rdc_min = 83.5\n",
      "V_Rdc = -53.48 kN, V_Rdc_min = 88.92\n",
      "Short-span, continuous: \n",
      "V_Ed = -20.377 kN\n",
      "V_Rdc = 83.5 kN\n",
      "\n"
     ]
    }
   ],
   "source": [
    "# --- short-span, continuous -> SC\n",
    "sc_a_V_Rdc = V_Rdc(d_inner, so_a_As) # Wrong area, get correct values of reinforcement area for shear\n",
    "sc_a_V_Ed = v_sx_a_continuous\n",
    "\n",
    "# --- short-span, discontinuous -> SD\n",
    "sd_a_V_Rdc = V_Rdc(d_outer, so_a_As) # Wrong area, get correct values of reinforcement area\n",
    "sd_a_V_Ed = v_sx_a_discontinuous\n",
    "\n",
    "\n",
    "print(f\"Short-span, continuous: \\nV_Ed = {v_sx_a_continuous} kN\\nV_Rdc = {round(sc_a_V_Rdc, 2)} kN\\n\")\n"
   ]
  },
  {
   "cell_type": "markdown",
   "metadata": {},
   "source": [
    "#### Slab B"
   ]
  },
  {
   "cell_type": "code",
   "execution_count": null,
   "metadata": {},
   "outputs": [],
   "source": []
  },
  {
   "cell_type": "markdown",
   "metadata": {},
   "source": [
    "# BEAMS..."
   ]
  },
  {
   "cell_type": "code",
   "execution_count": 32,
   "metadata": {},
   "outputs": [],
   "source": [
    "# "
   ]
  }
 ],
 "metadata": {
  "kernelspec": {
   "display_name": "Python 3 (ipykernel)",
   "language": "python",
   "name": "python3"
  },
  "language_info": {
   "codemirror_mode": {
    "name": "ipython",
    "version": 3
   },
   "file_extension": ".py",
   "mimetype": "text/x-python",
   "name": "python",
   "nbconvert_exporter": "python",
   "pygments_lexer": "ipython3",
   "version": "3.10.12"
  }
 },
 "nbformat": 4,
 "nbformat_minor": 4
}
